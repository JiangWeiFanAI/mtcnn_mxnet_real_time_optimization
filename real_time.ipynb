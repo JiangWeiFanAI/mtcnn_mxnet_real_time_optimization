{
 "cells": [
  {
   "cell_type": "code",
   "execution_count": null,
   "metadata": {},
   "outputs": [],
   "source": [
    "# %load main.py\n",
    "import mxnet as mx\n",
    "from mtcnn_detector import MtcnnDetector\n",
    "import cv2\n",
    "import os\n",
    "import time\n",
    "\n",
    "detector = MtcnnDetector(model_folder='model', ctx=mx.cpu(0), num_worker = 4 , accurate_landmark = False)\n",
    "\n",
    "\n",
    "\n",
    "camera = cv2.VideoCapture(0)\n",
    "flag = 1 \n",
    "while True:\n",
    "    if flag == 18:\n",
    "        flag =1\n",
    "    \n",
    "    grab, frame = camera.read()\n",
    "    img = cv2.resize(frame, (320,180))\n",
    "\n",
    "    t1 = time.time()\n",
    "    results = detector.detect_face(img,flag)\n",
    "    print (\"time: %.9f\" % (time.time() - t1))\n",
    "\n",
    "    if results is None:\n",
    "        flag=1\n",
    "        continue\n",
    "    flag +=1\n",
    "    total_boxes = results[0]\n",
    "    points = results[1]\n",
    "\n",
    "    draw = img.copy()\n",
    "    for b in total_boxes:\n",
    "        cv2.rectangle(draw, (int(b[0]), int(b[1])), (int(b[2]), int(b[3])), (255, 255, 255))\n",
    "\n",
    "    for p in points:\n",
    "        for i in range(5):\n",
    "            cv2.circle(draw, (p[i], p[i + 5]), 1, (255, 0, 0), 2)\n",
    "\n",
    "    cv2.imshow(\"detection result\", draw)\n",
    "    cv2.waitKey(30)\n",
    "\n"
   ]
  },
  {
   "cell_type": "code",
   "execution_count": null,
   "metadata": {},
   "outputs": [],
   "source": []
  }
 ],
 "metadata": {
  "kernelspec": {
   "display_name": "Python 3",
   "language": "python",
   "name": "python3"
  },
  "language_info": {
   "codemirror_mode": {
    "name": "ipython",
    "version": 3
   },
   "file_extension": ".py",
   "mimetype": "text/x-python",
   "name": "python",
   "nbconvert_exporter": "python",
   "pygments_lexer": "ipython3",
   "version": "3.5.2"
  }
 },
 "nbformat": 4,
 "nbformat_minor": 2
}
